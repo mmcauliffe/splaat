{
 "cells": [
  {
   "metadata": {
    "ExecuteTime": {
     "end_time": "2025-09-29T21:38:08.307300Z",
     "start_time": "2025-09-29T21:38:07.147647Z"
    }
   },
   "cell_type": "code",
   "source": [
    "import os\n",
    "from splaat.audio.load import load_audio\n",
    "from splaat.plot.spectrogram import plot_spectrogram\n"
   ],
   "id": "73a9bd3a5ed7bc36",
   "outputs": [],
   "execution_count": 1
  },
  {
   "metadata": {
    "ExecuteTime": {
     "end_time": "2025-09-29T21:38:10.160344Z",
     "start_time": "2025-09-29T21:38:09.672619Z"
    }
   },
   "cell_type": "code",
   "source": [
    "audio_directory = os.path.join(os.path.dirname(os.path.abspath(\"\")), \"_static\", \"audio\")\n",
    "audio, sr = load_audio(os.path.join(audio_directory, \"mfa.wav\"))"
   ],
   "id": "6d9425ce19066b36",
   "outputs": [],
   "execution_count": 2
  },
  {
   "metadata": {
    "jupyter": {
     "is_executing": true
    },
    "ExecuteTime": {
     "start_time": "2025-09-29T21:38:12.145268Z"
    }
   },
   "cell_type": "code",
   "source": "ret = plot_spectrogram(audio, sr, channel=0)",
   "id": "54c6f4d01f9efb51",
   "outputs": [],
   "execution_count": null
  },
  {
   "metadata": {},
   "cell_type": "code",
   "outputs": [],
   "execution_count": null,
   "source": "ret = plot_spectrogram(audio, sr, channel=1)",
   "id": "80986fbb25e928b8"
  },
  {
   "metadata": {},
   "cell_type": "code",
   "source": [
    "ret = plot_spectrogram(audio, sr, channel=0, start=0.4, end=0.6, figure_width=20)\n",
    "ret = plot_spectrogram(audio, sr, channel=1, start=0.4, end=0.6, figure_width=20)"
   ],
   "id": "2eb248e9ac315746",
   "outputs": [
    {
     "ename": "NameError",
     "evalue": "name 'plot_spectrogram' is not defined",
     "output_type": "error",
     "traceback": [
      "\u001B[31m---------------------------------------------------------------------------\u001B[39m",
      "\u001B[31mNameError\u001B[39m                                 Traceback (most recent call last)",
      "\u001B[36mCell\u001B[39m\u001B[36m \u001B[39m\u001B[32mIn[1]\u001B[39m\u001B[32m, line 1\u001B[39m\n\u001B[32m----> \u001B[39m\u001B[32m1\u001B[39m ret = \u001B[43mplot_spectrogram\u001B[49m(audio, sr, channel=\u001B[32m0\u001B[39m, start=\u001B[32m0.4\u001B[39m, end=\u001B[32m0.6\u001B[39m, figure_width=\u001B[32m20\u001B[39m)\n\u001B[32m      2\u001B[39m ret = plot_spectrogram(audio, sr, channel=\u001B[32m1\u001B[39m, start=\u001B[32m0.4\u001B[39m, end=\u001B[32m0.6\u001B[39m, figure_width=\u001B[32m20\u001B[39m)\n",
      "\u001B[31mNameError\u001B[39m: name 'plot_spectrogram' is not defined"
     ]
    }
   ],
   "execution_count": 1
  },
  {
   "metadata": {},
   "cell_type": "code",
   "outputs": [],
   "execution_count": null,
   "source": "",
   "id": "c560e058bd0762a4"
  }
 ],
 "metadata": {
  "kernelspec": {
   "display_name": "Python 3",
   "language": "python",
   "name": "python3"
  },
  "language_info": {
   "codemirror_mode": {
    "name": "ipython",
    "version": 2
   },
   "file_extension": ".py",
   "mimetype": "text/x-python",
   "name": "python",
   "nbconvert_exporter": "python",
   "pygments_lexer": "ipython2",
   "version": "2.7.6"
  }
 },
 "nbformat": 4,
 "nbformat_minor": 5
}
